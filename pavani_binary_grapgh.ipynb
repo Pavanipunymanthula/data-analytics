{
  "nbformat": 4,
  "nbformat_minor": 0,
  "metadata": {
    "colab": {
      "provenance": []
    },
    "kernelspec": {
      "name": "python3",
      "display_name": "Python 3"
    },
    "language_info": {
      "name": "python"
    }
  },
  "cells": [
    {
      "cell_type": "code",
      "execution_count": null,
      "metadata": {
        "id": "bpHUyJ0xlLny"
      },
      "outputs": [],
      "source": []
    },
    {
      "cell_type": "code",
      "source": [
        "import numpy as np\n",
        "import seaborn as sns\n",
        "di=sns.load_dataset(\"mpg\")\n",
        "print(di)"
      ],
      "metadata": {
        "colab": {
          "base_uri": "https://localhost:8080/"
        },
        "id": "05QdfSf5lWHs",
        "outputId": "7cb43f05-9f00-4cef-b1cb-e522ae11700c"
      },
      "execution_count": 1,
      "outputs": [
        {
          "output_type": "stream",
          "name": "stdout",
          "text": [
            "      mpg  cylinders  displacement  horsepower  weight  acceleration  \\\n",
            "0    18.0          8         307.0       130.0    3504          12.0   \n",
            "1    15.0          8         350.0       165.0    3693          11.5   \n",
            "2    18.0          8         318.0       150.0    3436          11.0   \n",
            "3    16.0          8         304.0       150.0    3433          12.0   \n",
            "4    17.0          8         302.0       140.0    3449          10.5   \n",
            "..    ...        ...           ...         ...     ...           ...   \n",
            "393  27.0          4         140.0        86.0    2790          15.6   \n",
            "394  44.0          4          97.0        52.0    2130          24.6   \n",
            "395  32.0          4         135.0        84.0    2295          11.6   \n",
            "396  28.0          4         120.0        79.0    2625          18.6   \n",
            "397  31.0          4         119.0        82.0    2720          19.4   \n",
            "\n",
            "     model_year  origin                       name  \n",
            "0            70     usa  chevrolet chevelle malibu  \n",
            "1            70     usa          buick skylark 320  \n",
            "2            70     usa         plymouth satellite  \n",
            "3            70     usa              amc rebel sst  \n",
            "4            70     usa                ford torino  \n",
            "..          ...     ...                        ...  \n",
            "393          82     usa            ford mustang gl  \n",
            "394          82  europe                  vw pickup  \n",
            "395          82     usa              dodge rampage  \n",
            "396          82     usa                ford ranger  \n",
            "397          82     usa                 chevy s-10  \n",
            "\n",
            "[398 rows x 9 columns]\n"
          ]
        }
      ]
    },
    {
      "cell_type": "code",
      "source": [
        "a=di.head(15)\n",
        "b=a[[\"mpg\"]]\n",
        "b[\"class\"]=0\n",
        "g=b[\"class\"]\n",
        "print(b)"
      ],
      "metadata": {
        "colab": {
          "base_uri": "https://localhost:8080/"
        },
        "id": "aGnIgqwqlao9",
        "outputId": "47f7ea27-f9c6-40f2-bb69-58114e8513a0"
      },
      "execution_count": 2,
      "outputs": [
        {
          "output_type": "stream",
          "name": "stdout",
          "text": [
            "     mpg  class\n",
            "0   18.0      0\n",
            "1   15.0      0\n",
            "2   18.0      0\n",
            "3   16.0      0\n",
            "4   17.0      0\n",
            "5   15.0      0\n",
            "6   14.0      0\n",
            "7   14.0      0\n",
            "8   14.0      0\n",
            "9   15.0      0\n",
            "10  15.0      0\n",
            "11  14.0      0\n",
            "12  15.0      0\n",
            "13  14.0      0\n",
            "14  24.0      0\n"
          ]
        },
        {
          "output_type": "stream",
          "name": "stderr",
          "text": [
            "<ipython-input-2-6d2a84bd693f>:3: SettingWithCopyWarning: \n",
            "A value is trying to be set on a copy of a slice from a DataFrame.\n",
            "Try using .loc[row_indexer,col_indexer] = value instead\n",
            "\n",
            "See the caveats in the documentation: https://pandas.pydata.org/pandas-docs/stable/user_guide/indexing.html#returning-a-view-versus-a-copy\n",
            "  b[\"class\"]=0\n"
          ]
        }
      ]
    },
    {
      "cell_type": "code",
      "source": [
        "a=di.head(15)\n",
        "b=a[[\"mpg\"]]\n",
        "b[\"class\"]=0\n",
        "g=b[\"class\"]\n",
        "print(b)"
      ],
      "metadata": {
        "colab": {
          "base_uri": "https://localhost:8080/"
        },
        "id": "Q_J0bZqhlgMk",
        "outputId": "4e1ab07c-6a89-42ea-e535-a448b449e1c2"
      },
      "execution_count": 3,
      "outputs": [
        {
          "output_type": "stream",
          "name": "stdout",
          "text": [
            "     mpg  class\n",
            "0   18.0      0\n",
            "1   15.0      0\n",
            "2   18.0      0\n",
            "3   16.0      0\n",
            "4   17.0      0\n",
            "5   15.0      0\n",
            "6   14.0      0\n",
            "7   14.0      0\n",
            "8   14.0      0\n",
            "9   15.0      0\n",
            "10  15.0      0\n",
            "11  14.0      0\n",
            "12  15.0      0\n",
            "13  14.0      0\n",
            "14  24.0      0\n"
          ]
        },
        {
          "output_type": "stream",
          "name": "stderr",
          "text": [
            "<ipython-input-3-6d2a84bd693f>:3: SettingWithCopyWarning: \n",
            "A value is trying to be set on a copy of a slice from a DataFrame.\n",
            "Try using .loc[row_indexer,col_indexer] = value instead\n",
            "\n",
            "See the caveats in the documentation: https://pandas.pydata.org/pandas-docs/stable/user_guide/indexing.html#returning-a-view-versus-a-copy\n",
            "  b[\"class\"]=0\n"
          ]
        }
      ]
    },
    {
      "cell_type": "code",
      "source": [
        "c=di.loc[15:30]\n",
        "e=c[[\"mpg\"]]\n",
        "e[\"class\"]=1\n",
        "f=e[\"class\"]\n",
        "print(f)"
      ],
      "metadata": {
        "colab": {
          "base_uri": "https://localhost:8080/"
        },
        "id": "4Gm_Skt0mchw",
        "outputId": "d7edd7af-6b47-4c3e-e028-ed9e429d0d09"
      },
      "execution_count": 4,
      "outputs": [
        {
          "output_type": "stream",
          "name": "stdout",
          "text": [
            "15    1\n",
            "16    1\n",
            "17    1\n",
            "18    1\n",
            "19    1\n",
            "20    1\n",
            "21    1\n",
            "22    1\n",
            "23    1\n",
            "24    1\n",
            "25    1\n",
            "26    1\n",
            "27    1\n",
            "28    1\n",
            "29    1\n",
            "30    1\n",
            "Name: class, dtype: int64\n"
          ]
        },
        {
          "output_type": "stream",
          "name": "stderr",
          "text": [
            "<ipython-input-4-1d4b7486f671>:3: SettingWithCopyWarning: \n",
            "A value is trying to be set on a copy of a slice from a DataFrame.\n",
            "Try using .loc[row_indexer,col_indexer] = value instead\n",
            "\n",
            "See the caveats in the documentation: https://pandas.pydata.org/pandas-docs/stable/user_guide/indexing.html#returning-a-view-versus-a-copy\n",
            "  e[\"class\"]=1\n"
          ]
        }
      ]
    },
    {
      "cell_type": "code",
      "source": [
        "import matplotlib.pyplot as plt\n",
        "plt.scatter(f,e[\"mpg\"],color='orange',marker = 'H')\n",
        "plt.scatter(g,b[\"mpg\"],color='yellow',marker='>')\n",
        "x=np.array([0,1])\n",
        "y=np.array([1,30])\n",
        "plt.plot(x,y)"
      ],
      "metadata": {
        "colab": {
          "base_uri": "https://localhost:8080/",
          "height": 447
        },
        "id": "Xrp8-1OdmoGk",
        "outputId": "7e8291bc-105e-45cc-b7ab-d430e0106958"
      },
      "execution_count": 5,
      "outputs": [
        {
          "output_type": "execute_result",
          "data": {
            "text/plain": [
              "[<matplotlib.lines.Line2D at 0x7f02b5f70910>]"
            ]
          },
          "metadata": {},
          "execution_count": 5
        },
        {
          "output_type": "display_data",
          "data": {
            "text/plain": [
              "<Figure size 640x480 with 1 Axes>"
            ],
            "image/png": "[encoded data removed]"
          },
          "metadata": {}
        }
      ]
    }
  ]
}